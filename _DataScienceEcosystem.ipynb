{
 "cells": [
  {
   "cell_type": "markdown",
   "id": "d64aef9d",
   "metadata": {},
   "source": [
    "###### Exercise 2: Create markdown cell with title of the notebook\n",
    "# Data Science Tools and Ecosystem"
   ]
  },
  {
   "cell_type": "markdown",
   "id": "912a4eec",
   "metadata": {},
   "source": [
    "###### Exercise 3 - Create a markdown cell for an introduction\n",
    "\n",
    "\n",
    "In this notebook, Data Science Tools and Ecosystem are summarized"
   ]
  },
  {
   "cell_type": "markdown",
   "id": "e7c43fb1",
   "metadata": {},
   "source": [
    "###### Exercise 4 - Create a markdown cell to list data science languages\n",
    "\n",
    "Some of the popular languages that Data Scientists use are:\n",
    "1. Python\n",
    "2. R\n",
    "3. Ruby\n",
    "4. Scala\n",
    "5. JS"
   ]
  },
  {
   "cell_type": "markdown",
   "id": "b9ceaffc",
   "metadata": {},
   "source": [
    "###### Exercise 5 - Create a markdown cell to list data science libraries\n",
    "\n",
    "Some of the commonly used libraries used by Data Scientists include:\n",
    "\n",
    "1. Numpy\n",
    "2. Pandas.\n",
    "3. Skitlearn.\n",
    "4. matplotlib.\n",
    "5. ceret.\n",
    "\n"
   ]
  },
  {
   "cell_type": "markdown",
   "id": "3ea40a37",
   "metadata": {},
   "source": [
    "###### Exercise 6 - Create a markdown cell with a table of Data Science tools\n",
    "\n",
    "Data Science Tools\n",
    "\n",
    "| Serial number| Tool name |\n",
    "| --- | --- | \n",
    "| 1 | Jupyter Notebook |\n",
    "| 2 | Hadoop |\n",
    "| 3 | Spark |\n",
    "| 4 | Tensorflow |\n",
    "\n"
   ]
  },
  {
   "cell_type": "markdown",
   "id": "17a8103c",
   "metadata": {},
   "source": [
    "###### Exercise 7 - Create a markdown cell introducing arithmetic expression examples\n",
    "\n",
    "\n",
    "### Below are a few examples of evaluating arithmetic expressions in Python.\n",
    "\n"
   ]
  },
  {
   "cell_type": "markdown",
   "id": "8fa1b4f3",
   "metadata": {},
   "source": [
    "###### Exercise 8 - Create a code cell to multiply and add numbers\n",
    "\n",
    "#This a simple arithmetic expression to mutiply then add integers\n",
    "\n"
   ]
  },
  {
   "cell_type": "code",
   "execution_count": 9,
   "id": "17e9cde6",
   "metadata": {},
   "outputs": [
    {
     "name": "stdout",
     "output_type": "stream",
     "text": [
      "17\n"
     ]
    }
   ],
   "source": [
    "print((3*4)+5)\n"
   ]
  },
  {
   "cell_type": "markdown",
   "id": "ab1cfd36",
   "metadata": {},
   "source": [
    "###### Exercise 9 - Create a code cell to convert minutes to hours\n",
    "\n",
    "#This will convert 200 minutes to hours by diving by 60\n",
    "\n"
   ]
  },
  {
   "cell_type": "code",
   "execution_count": 10,
   "id": "77c8bade",
   "metadata": {},
   "outputs": [
    {
     "name": "stdout",
     "output_type": "stream",
     "text": [
      "3.3333333333333335\n"
     ]
    }
   ],
   "source": [
    "print(200/60)"
   ]
  },
  {
   "cell_type": "markdown",
   "id": "f20a0931",
   "metadata": {},
   "source": [
    "###### Exercise 10 - Insert a markdown cell to list Objectives\n",
    "\n",
    "###### Objectives:\n",
    "*  list of Popular languages that Data Scientists\n",
    "*  list of  popular library that Data Scientists\n",
    "*  list of  Data Science tools\n",
    "*  evaluation of the arithmetic expression\n",
    "\n"
   ]
  },
  {
   "cell_type": "markdown",
   "id": "ad0b3e9d",
   "metadata": {},
   "source": [
    "###### Exercise 11 - Create a markdown cell to indicate the Author's name\n",
    "\n",
    "## Author\n",
    "\n",
    "Amit Rikhari"
   ]
  }
 ],
 "metadata": {
  "kernelspec": {
   "display_name": "Python 3 (ipykernel)",
   "language": "python",
   "name": "python3"
  },
  "language_info": {
   "codemirror_mode": {
    "name": "ipython",
    "version": 3
   },
   "file_extension": ".py",
   "mimetype": "text/x-python",
   "name": "python",
   "nbconvert_exporter": "python",
   "pygments_lexer": "ipython3",
   "version": "3.11.4"
  }
 },
 "nbformat": 4,
 "nbformat_minor": 5
}
